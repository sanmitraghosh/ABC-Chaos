{
 "cells": [
  {
   "cell_type": "code",
   "execution_count": null,
   "metadata": {
    "collapsed": false
   },
   "outputs": [],
   "source": [
    "from scipy.integrate import odeint\n",
    "import math \n",
    "import numpy as np\n",
    "import astroabc\n",
    "import GPy\n",
    "import matplotlib.pyplot as plt\n",
    "from mpl_toolkits.mplot3d import Axes3D\n",
    "from IPython.display import display\n",
    "\n",
    "%matplotlib inline\n"
   ]
  },
  {
   "cell_type": "code",
   "execution_count": null,
   "metadata": {
    "collapsed": false
   },
   "outputs": [],
   "source": [
    "def model_deriv(y, t, param):\n",
    "    #Define parameters\n",
    "    a,b,c=param\n",
    "\n",
    "    #define states\n",
    "    X,Y,Z=y\n",
    "\n",
    "\n",
    "    #define derivatives\n",
    "    dX_dt = -Y - Z\n",
    "    dY_dt = X + a*Y\n",
    "    dZ_dt = b + Z*(X-c)\n",
    "    \n",
    "    return dX_dt,dY_dt,dZ_dt\n",
    "    \n",
    "def model_sol(param):\n",
    "    \n",
    "    y0 = [4.,4.,0.1]\n",
    "    time = np.linspace(0, 500, 1000)\n",
    "\n",
    "    solution = odeint(model_deriv, y0, time, args=(param,))\n",
    "    return np.array(solution)"
   ]
  },
  {
   "cell_type": "code",
   "execution_count": null,
   "metadata": {
    "collapsed": false
   },
   "outputs": [],
   "source": [
    "time = np.linspace(0, 500, 1000)\n",
    "\n",
    "sol=model_sol([0.1,0.1,14.])\n",
    "Y=np.ones((len(time),3))\n",
    "for states in range(3):\n",
    "    Y[:,states] = sol[:,states] + np.random.randn(len(time),)*(0.1*np.mean(sol[:,states]))\n",
    "\n",
    "plt.plot(Y[:,0],Y[:,1])\n",
    "plt.plot(sol[:,0],sol[:,1])"
   ]
  },
  {
   "cell_type": "code",
   "execution_count": null,
   "metadata": {
    "collapsed": false
   },
   "outputs": [],
   "source": [
    "kernX = GPy.kern.Matern32(1) + GPy.kern.Bias(1)\n",
    "kernY = GPy.kern.Matern32(1) + GPy.kern.Bias(1)\n",
    "kernZ = GPy.kern.Matern32(1) + GPy.kern.Bias(1)\n",
    "input_time=time.reshape(1000,1)#[-500:]\n",
    "modelX = GPy.models.GPRegression(input_time, Y[:,0].reshape(len(input_time),1), kernX)#[-500:,0]\n",
    "modelY = GPy.models.GPRegression(input_time, Y[:,1].reshape(len(input_time),1), kernX)\n",
    "modelZ = GPy.models.GPRegression(input_time, Y[:,2].reshape(len(input_time),1), kernX)\n",
    "#modelZ.Gaussian_noise.variance=0.23"
   ]
  },
  {
   "cell_type": "code",
   "execution_count": null,
   "metadata": {
    "collapsed": false
   },
   "outputs": [],
   "source": [
    "modelX.optimize_restarts(optimizer='lbfgs',messages=False,num_restarts = 1)\n",
    "modelY.optimize_restarts(optimizer='lbfgs',messages=False,num_restarts = 1)\n",
    "modelZ.optimize_restarts(optimizer='lbfgs',messages=False,num_restarts = 1)"
   ]
  },
  {
   "cell_type": "code",
   "execution_count": 4,
   "metadata": {
    "collapsed": false
   },
   "outputs": [],
   "source": [
    "def smooth_gp(traces, input_time, gp_kernel, true_sol=None, optim_restarts = 1):\n",
    "    time_len = len(input_time)\n",
    "    gp_models = []\n",
    "    state = []\n",
    "    velocity = []\n",
    "    for states in xrange(traces.shape[1]):\n",
    "        kern = GPy.kern.Matern32(1) + GPy.kern.Bias(1) \n",
    "        gp_models.append(GPy.models.GPRegression(input_time, \n",
    "                                    traces[-time_len:,states].reshape(len(input_time),1), kern))\n",
    "    #for states in xrange(traces.shape[1]):\n",
    "    #    gp_models[states].optimize_restarts(optimizer='lbfgs',messages=False,\n",
    "    #                                        num_restarts = optim_restarts)\n",
    "    start = 400\n",
    "    stop = 500\n",
    "    window = [start,stop]\n",
    "    for states in xrange(traces.shape[1]):\n",
    "        gp_models[states].optimize_restarts(optimizer='lbfgs',messages=False,\n",
    "                                           num_restarts = optim_restarts)\n",
    "        state.append(gp_models[states].posterior_samples_f(input_time,size=10))\n",
    "        velocity.append(gp_models[states].predictive_gradients(input_time)\n",
    "                       [0].reshape(len(input_time),))\n",
    "        gp_models[states].plot_noiseless(window)\n",
    "        if not(true_sol) == None:\n",
    "            plt.plot(input_time[-500:],true_sol[-500:,i],\n",
    "                     color='#ff7f0e',lw=1.5,label='state '+str(i+1))\n",
    "        plt.legend()\n",
    "        plt.xlabel('Time')\n",
    "        plt.ylabel('Value')\n",
    "    return state, velocity, gp_models"
   ]
  },
  {
   "cell_type": "code",
   "execution_count": 5,
   "metadata": {
    "collapsed": false
   },
   "outputs": [
    {
     "ename": "NameError",
     "evalue": "name 'time' is not defined",
     "output_type": "error",
     "traceback": [
      "\u001b[0;31m---------------------------------------------------------------------------\u001b[0m",
      "\u001b[0;31mNameError\u001b[0m                                 Traceback (most recent call last)",
      "\u001b[0;32m<ipython-input-5-4b5fed11eb81>\u001b[0m in \u001b[0;36m<module>\u001b[0;34m()\u001b[0m\n\u001b[0;32m----> 1\u001b[0;31m \u001b[0minput_time\u001b[0m\u001b[1;33m=\u001b[0m\u001b[0mtime\u001b[0m\u001b[1;33m.\u001b[0m\u001b[0mreshape\u001b[0m\u001b[1;33m(\u001b[0m\u001b[1;36m1000\u001b[0m\u001b[1;33m,\u001b[0m\u001b[1;36m1\u001b[0m\u001b[1;33m)\u001b[0m\u001b[1;33m\u001b[0m\u001b[0m\n\u001b[0m\u001b[1;32m      2\u001b[0m \u001b[0mgp_kernel\u001b[0m \u001b[1;33m=\u001b[0m \u001b[0mGPy\u001b[0m\u001b[1;33m.\u001b[0m\u001b[0mkern\u001b[0m\u001b[1;33m.\u001b[0m\u001b[0mMatern32\u001b[0m\u001b[1;33m(\u001b[0m\u001b[1;36m1\u001b[0m\u001b[1;33m)\u001b[0m \u001b[1;33m+\u001b[0m \u001b[0mGPy\u001b[0m\u001b[1;33m.\u001b[0m\u001b[0mkern\u001b[0m\u001b[1;33m.\u001b[0m\u001b[0mBias\u001b[0m\u001b[1;33m(\u001b[0m\u001b[1;36m1\u001b[0m\u001b[1;33m)\u001b[0m\u001b[1;33m\u001b[0m\u001b[0m\n\u001b[1;32m      3\u001b[0m \u001b[0mxbar\u001b[0m\u001b[1;33m,\u001b[0m \u001b[0mdxbar\u001b[0m\u001b[1;33m,\u001b[0m \u001b[0mgps\u001b[0m \u001b[1;33m=\u001b[0m \u001b[0msmooth_gp\u001b[0m\u001b[1;33m(\u001b[0m\u001b[0mY\u001b[0m\u001b[1;33m,\u001b[0m \u001b[0minput_time\u001b[0m\u001b[1;33m,\u001b[0m \u001b[0mgp_kernel\u001b[0m\u001b[1;33m)\u001b[0m\u001b[1;33m\u001b[0m\u001b[0m\n",
      "\u001b[0;31mNameError\u001b[0m: name 'time' is not defined"
     ]
    }
   ],
   "source": [
    "input_time=time.reshape(1000,1)\n",
    "gp_kernel = GPy.kern.Matern32(1) + GPy.kern.Bias(1)\n",
    "xbar, dxbar, gps = smooth_gp(Y, input_time, gp_kernel)"
   ]
  },
  {
   "cell_type": "code",
   "execution_count": null,
   "metadata": {
    "collapsed": false
   },
   "outputs": [],
   "source": [
    "def simulation_rhs_f(trial):\n",
    "    stateLen = 1000\n",
    "    sample = 10\n",
    "    xbar_X, xbar_Y, xbar_Z = xbar\n",
    "    rhsf_X = np.ones((stateLen,sample))\n",
    "    rhsf_Y = np.ones((stateLen,sample))\n",
    "    rhsf_Z = np.ones((stateLen,sample))\n",
    "    for t in range(stateLen):\n",
    "        for j in range(sample):\n",
    "            rhsf_X[t,j] = -xbar_Y[t,j] - xbar_Z[t,j]\n",
    "            rhsf_Y[t,j] = xbar_X[t,j] + trial[0]*xbar_Y[t,j]\n",
    "            rhsf_Z[t,j] = trial[1] + xbar_Z[t,j]*(xbar_X[t,j]-trial[2])\n",
    "    \n",
    "    if np.any(np.array([trial])<0.0):\n",
    "        rhsf_X[0,:]=-1000.\n",
    "        rhsf_Y[0,:]=-1000.\n",
    "        rhsf_Z[0,:]=-1000.\n",
    "       \n",
    "    return [rhsf_X.mean(axis=1),rhsf_Y.mean(axis=1),rhsf_Z.mean(axis=1)]"
   ]
  },
  {
   "cell_type": "code",
   "execution_count": null,
   "metadata": {
    "collapsed": false
   },
   "outputs": [],
   "source": [
    "def dist_metric(d,x):\n",
    "    dist=0.0\n",
    "    for states in range(3):\n",
    "        if np.all(np.array(x[states][0]==-1000.0)):\n",
    "            dist += np.inf\n",
    "        else:\n",
    "            dist += np.sum((d[states]-x[states])**2)    \n",
    "            \n",
    "    return dist  "
   ]
  },
  {
   "cell_type": "code",
   "execution_count": null,
   "metadata": {
    "collapsed": false
   },
   "outputs": [],
   "source": [
    "tt=simulation_rhs_f([0.1,0.1,14])\n",
    "plt.figure(figsize=(15, 7.5))\n",
    "plt.plot(input_time,dxbar[2])\n",
    "plt.plot(input_time,tt[2])\n",
    "np.sum((dxbar[2]-tt[2])**2)"
   ]
  },
  {
   "cell_type": "code",
   "execution_count": null,
   "metadata": {
    "collapsed": false
   },
   "outputs": [],
   "source": [
    "dist=dist_metric(dxbar,tt)\n",
    "trial_dist=dist*3"
   ]
  },
  {
   "cell_type": "code",
   "execution_count": null,
   "metadata": {
    "collapsed": true
   },
   "outputs": [],
   "source": [
    "data = dxbar\n",
    "#priors =  [('uniform', [0.0,2.]), ('uniform', [0.0,2.]), ('uniform', [0.0,30.0])]\n",
    "priors =  [('gamma', [2.0,1.]), ('uniform', [0.0,2.]), ('uniform', [5.0,40.0])]"
   ]
  },
  {
   "cell_type": "code",
   "execution_count": null,
   "metadata": {
    "collapsed": false
   },
   "outputs": [],
   "source": [
    "prop={'dfunc':dist_metric, 'outfile':\"rossler.txt\", 'verbose':1, 'adapt_t': True,\\\n",
    "     'tol_type':\"linear\" ,'pert_kernel': 2, 'variance_method': 0}"
   ]
  },
  {
   "cell_type": "code",
   "execution_count": null,
   "metadata": {
    "collapsed": false
   },
   "outputs": [],
   "source": [
    "#'threshold': 0.7,"
   ]
  },
  {
   "cell_type": "code",
   "execution_count": null,
   "metadata": {
    "collapsed": false
   },
   "outputs": [],
   "source": [
    "sampler = astroabc.ABC_class(3,100,data,[trial_dist,100],30,priors,**prop)"
   ]
  },
  {
   "cell_type": "code",
   "execution_count": null,
   "metadata": {
    "collapsed": false
   },
   "outputs": [],
   "source": [
    "sampler.sample(simulation_rhs_f)"
   ]
  },
  {
   "cell_type": "code",
   "execution_count": null,
   "metadata": {
    "collapsed": true
   },
   "outputs": [],
   "source": [
    "def model_sol_pos(param,init):\n",
    "    y0 = init\n",
    "    time = np.linspace(0, 500, 500000)\n",
    "    solution = odeint(model_deriv, y0, time, args=(param,))\n",
    "    return solution"
   ]
  },
  {
   "cell_type": "code",
   "execution_count": null,
   "metadata": {
    "collapsed": false
   },
   "outputs": [],
   "source": [
    "init=[xbar[0][0,:].mean(axis=0),xbar[1][0,:].mean(axis=0),xbar[2][0,:].mean(axis=0)]\n",
    "init"
   ]
  },
  {
   "cell_type": "code",
   "execution_count": null,
   "metadata": {
    "collapsed": true
   },
   "outputs": [],
   "source": [
    "def plot_pos(soln_fn, params, sampler):\n",
    "    center = []\n",
    "    upper = []\n",
    "    lower = []\n",
    "    for par in xrange(sampler.nparams):\n",
    "        center.append(np.mean(sampler.theta[step][:,par]))\n",
    "        upper.append(np.mean(sampler.theta[step][:,par])+1.96*np.std(sampler.theta[step][:,par]))\n",
    "        lower.append(np.mean(sampler.theta[step][:,par])+1.96*np.std(sampler.theta[step][:,par]))"
   ]
  },
  {
   "cell_type": "code",
   "execution_count": null,
   "metadata": {
    "collapsed": false
   },
   "outputs": [],
   "source": [
    "step=29\n",
    "center = [np.mean(sampler.theta[step][:,0]),\\\n",
    "                     np.mean(sampler.theta[step][:,1]),\\\n",
    "                     np.mean(sampler.theta[step][:,2])]\n",
    "upper = [np.mean(sampler.theta[step][:,0])+2*np.std(sampler.theta[step][:,0])/10,\\\n",
    "                     np.mean(sampler.theta[step][:,1])+2*np.std(sampler.theta[step][:,1])/10,\\\n",
    "                     np.mean(sampler.theta[step][:,2])+2*np.std(sampler.theta[step][:,2])/10]\n",
    "lower = [np.mean(sampler.theta[step][:,0])-2*np.std(sampler.theta[step][:,0])/10,\\\n",
    "                     np.mean(sampler.theta[step][:,1])-2*np.std(sampler.theta[step][:,1])/10,\\\n",
    "                     np.mean(sampler.theta[step][:,2])-2*np.std(sampler.theta[step][:,2])/10]\n",
    "\n",
    "#print(upper)7.26437805, -3.24197867, 35.79321362\n",
    "mean_soln = model_sol_pos(center,init)\n",
    "lower_soln = model_sol_pos(lower,init)\n",
    "upper_soln = model_sol_pos(upper,init)\n",
    "true_init = [7.26437805, -3.24197867, 35.79321362]\n",
    "true_soln = model_sol_pos([0.1,0.1,14],init)\n",
    "\n",
    "plt.figure(figsize=(15, 7.5))\n",
    "fig = plt.figure(figsize=(25, 17.5))\n",
    "ax = fig.add_subplot(121, projection='3d')\n",
    "plt.plot(true_soln[:,0],true_soln[:,1],true_soln[:,2])\n",
    "ax = fig.add_subplot(122, projection='3d')\n",
    "plt.plot(lower_soln[:,0],lower_soln[:,1],lower_soln[:,2])\n"
   ]
  },
  {
   "cell_type": "code",
   "execution_count": null,
   "metadata": {
    "collapsed": false
   },
   "outputs": [],
   "source": [
    "plt.figure(figsize=(15, 7.5))\n",
    "plt.plot(mean_soln[-10000:,2],lw=4)\n",
    "plt.plot(lower_soln[-10000:,2],'--',color='black')\n",
    "plt.plot(upper_soln[-10000:,2],'--',color='gray')\n",
    "plt.plot(true_soln[-10000:,2])"
   ]
  },
  {
   "cell_type": "code",
   "execution_count": null,
   "metadata": {
    "collapsed": false
   },
   "outputs": [],
   "source": [
    "results=np.loadtxt(\"rossler.txt\",skiprows=1)\n",
    "results.shape"
   ]
  },
  {
   "cell_type": "code",
   "execution_count": null,
   "metadata": {
    "collapsed": false
   },
   "outputs": [],
   "source": [
    "par=results[2800:2900,0:4]\n",
    "time = np.linspace(0, 500, 500000)\n",
    "conf=2*np.std(par,axis=0)/10\n",
    "mean=np.mean(par,axis=0)\n",
    "dmin=np.argsort(par[:,3])\n",
    "param=par[dmin[:20],:3]\n",
    "param[0,:]\n",
    "plt.hist(par[:,2],10)"
   ]
  },
  {
   "cell_type": "code",
   "execution_count": null,
   "metadata": {
    "collapsed": false
   },
   "outputs": [],
   "source": [
    "from mpl_toolkits.mplot3d import Axes3D\n",
    "fig = plt.figure(figsize=(25, 17.5))\n",
    "\n",
    "new_values = []\n",
    "for ind in range(len(param)):\n",
    "    \n",
    "    ppc_sol=model_sol_pos(param[ind],init)\n",
    "    new_values.append(ppc_sol)\n",
    "new_values = np.array(new_values)\n",
    "ax = fig.add_subplot(121, projection='3d')\n",
    "plt.plot(new_values[0,:,0],new_values[0,:,1],new_values[0,:,2],color='green', alpha=1.5)   \n",
    "ax = fig.add_subplot(122, projection='3d')\n",
    "plt.plot(true_soln[:,0],true_soln[:,1],true_soln[:,2], color='black', alpha=1.5)     \n",
    "\n",
    "\n",
    "plt.figure(figsize=(15, 7.5))\n",
    "plt.plot(time[-100000:], new_values[0][-100000:,0], color='yellow', alpha=0.1, label='inferred concentration')\n",
    "for v in new_values[1:]:\n",
    "    plt.plot(time[-100000:], v[-100000:,0], color='green', alpha=0.1)\n",
    "plt.plot(time[-100000:], true_soln[-100000:,0], color='black', lw=4, label='mean of inferred')\n",
    "#plt.plot(time, mean_soln[:,0], color='#ff7f0e', lw=4, label='original concentration')\n",
    "#plt.plot(time, Y, 'o', color='#7f7f7f', ms=6.5, label='data points')\n",
    "plt.legend()\n",
    "plt.xlabel('Time')\n",
    "plt.ylabel('concentration')"
   ]
  },
  {
   "cell_type": "code",
   "execution_count": null,
   "metadata": {
    "collapsed": false
   },
   "outputs": [],
   "source": [
    "mean_values = np.mean(new_values, axis=0)\n",
    "plt.plot(mean_values[390000:500000,2])\n",
    "plt.plot(true_soln[390000:500000,2])\n"
   ]
  },
  {
   "cell_type": "code",
   "execution_count": null,
   "metadata": {
    "collapsed": false
   },
   "outputs": [],
   "source": [
    "new_values = []\n",
    "for ind in range(len(par)):\n",
    "    ppc_sol=model_sol_pos(par[ind],init)\n",
    "    new_values.append(ppc_sol)\n",
    "new_values = np.array(new_values)\n",
    "mean_values = np.mean(new_values, axis=0)\n",
    "new_values.shape\n"
   ]
  },
  {
   "cell_type": "code",
   "execution_count": null,
   "metadata": {
    "collapsed": false
   },
   "outputs": [],
   "source": [
    "\n",
    "fig = plt.figure(figsize=(25, 17.5))\n",
    "ax = fig.add_subplot(121, projection='3d')\n",
    "plt.plot(true_soln[:,0],true_soln[:,1],true_soln[:,2])\n",
    "plt.plot(mean_values[:,0],mean_values[:,1],mean_values[:,2])"
   ]
  },
  {
   "cell_type": "code",
   "execution_count": null,
   "metadata": {
    "collapsed": false
   },
   "outputs": [],
   "source": [
    "plt.plot(true_soln[:,0],true_soln[:,1])"
   ]
  },
  {
   "cell_type": "code",
   "execution_count": null,
   "metadata": {
    "collapsed": false
   },
   "outputs": [],
   "source": [
    "plt.plot(new_values[36,:,0],new_values[36,:,1])"
   ]
  },
  {
   "cell_type": "code",
   "execution_count": null,
   "metadata": {
    "collapsed": false
   },
   "outputs": [],
   "source": [
    "mean_soln = model_sol_pos(mean-conf,[4,4,0.1])\n",
    "plt.plot(mean_soln[:,0],mean_soln[:,1])"
   ]
  },
  {
   "cell_type": "code",
   "execution_count": null,
   "metadata": {
    "collapsed": true
   },
   "outputs": [],
   "source": []
  }
 ],
 "metadata": {
  "kernelspec": {
   "display_name": "Python 2",
   "language": "python",
   "name": "python2"
  },
  "language_info": {
   "codemirror_mode": {
    "name": "ipython",
    "version": 2
   },
   "file_extension": ".py",
   "mimetype": "text/x-python",
   "name": "python",
   "nbconvert_exporter": "python",
   "pygments_lexer": "ipython2",
   "version": "2.7.13"
  },
  "widgets": {
   "state": {
    "0bbb6dbe383344aa851fea001b1814c2": {
     "views": [
      {
       "cell_index": 4
      }
     ]
    },
    "17f8f5f829774b83bf5bbf59010772e9": {
     "views": [
      {
       "cell_index": 4
      }
     ]
    },
    "2b97331123cc40bda1cd1df7fd7d954e": {
     "views": [
      {
       "cell_index": 4
      }
     ]
    },
    "93891b0091554c438aed13127ed7c639": {
     "views": [
      {
       "cell_index": 4
      }
     ]
    },
    "d999f2d9004f4b62bfa1666691d1013a": {
     "views": [
      {
       "cell_index": 4
      }
     ]
    },
    "ee4f521141984acd9cc762d873720b2d": {
     "views": [
      {
       "cell_index": 4
      }
     ]
    },
    "eefb0e5f6fef4b85b9354ec74b66c393": {
     "views": [
      {
       "cell_index": 4
      }
     ]
    }
   },
   "version": "1.2.0"
  }
 },
 "nbformat": 4,
 "nbformat_minor": 0
}
