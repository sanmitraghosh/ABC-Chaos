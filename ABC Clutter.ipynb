{
 "cells": [
  {
   "cell_type": "code",
   "execution_count": 1,
   "metadata": {
    "collapsed": false
   },
   "outputs": [],
   "source": [
    "import numpy as np\n",
    "from abcsmc import ABCSMC\n",
    "import scipy\n",
    "import astroabc"
   ]
  },
  {
   "cell_type": "code",
   "execution_count": 2,
   "metadata": {
    "collapsed": true
   },
   "outputs": [],
   "source": [
    "#make the fake data with diagonal covariance\n",
    "means= np.array([0.037579, 0.573537])\n",
    "cov = np.array([[.01,.005],[.005,.01]])\n",
    "data = np.random.multivariate_normal(means, cov, size=1000)"
   ]
  },
  {
   "cell_type": "code",
   "execution_count": 3,
   "metadata": {
    "collapsed": true
   },
   "outputs": [],
   "source": [
    "#define a method for simulating the data given input parameters\n",
    "def simulation(param):\n",
    "    cov =np.array([[.01,.005],[.005,.01]])\n",
    "    #Ideally do something with the pool here\n",
    "    return np.random.multivariate_normal(param, cov, size=1000)\n",
    "\n",
    "model_sim = simulation"
   ]
  },
  {
   "cell_type": "code",
   "execution_count": 4,
   "metadata": {
    "collapsed": true
   },
   "outputs": [],
   "source": [
    "def dist_metric(d,x):\n",
    "    return np.sum(np.abs(np.mean(x,axis=0) - np.mean(d,axis=0)))"
   ]
  },
  {
   "cell_type": "code",
   "execution_count": 5,
   "metadata": {
    "collapsed": true
   },
   "outputs": [],
   "source": [
    "priors =  [('normal', [0.03,.5]), ('uniform', [0.1, 0.9])]"
   ]
  },
  {
   "cell_type": "code",
   "execution_count": 6,
   "metadata": {
    "collapsed": false
   },
   "outputs": [],
   "source": [
    "prop={'dfunc':dist_metric, 'outfile':\"gaussian_example.txt\", 'tol_type':\"log\",'verbose':1, 'adapt_t': True, 'pert_kernel':1}"
   ]
  },
  {
   "cell_type": "code",
   "execution_count": 7,
   "metadata": {
    "collapsed": false
   },
   "outputs": [
    {
     "name": "stdout",
     "output_type": "stream",
     "text": [
      "[0.5        0.48282759 0.46565517 0.44848276 0.43131034 0.41413793\n",
      " 0.39696552 0.3797931  0.36262069 0.34544828 0.32827586 0.31110345\n",
      " 0.29393103 0.27675862 0.25958621 0.24241379 0.22524138 0.20806897\n",
      " 0.19089655 0.17372414 0.15655172 0.13937931 0.1222069  0.10503448\n",
      " 0.08786207 0.07068966 0.05351724 0.03634483 0.01917241 0.002     ]\n"
     ]
    }
   ],
   "source": [
    "sampler = ABCSMC(2,100,data,30,priors,model_sim,dist_metric,[0.5,0.002])"
   ]
  },
  {
   "cell_type": "code",
   "execution_count": 8,
   "metadata": {
    "collapsed": false
   },
   "outputs": [
    {
     "name": "stdout",
     "output_type": "stream",
     "text": [
      "\t Step: 0 \t tol: 0.5 \t Params: [0.054875641526553574, 0.5394420078059717]\n",
      "\t Step: 1 \t epsilon_t: 0.48282758620689653 \t Params: [0.03907971819148222, 0.5631397969061112]\n",
      "\t Step: 2 \t epsilon_t: 0.4656551724137931 \t Params: [0.056580985599751214, 0.5603922194122356]\n",
      "\t Step: 3 \t epsilon_t: 0.44848275862068965 \t Params: [0.01873853208248033, 0.5776833526577149]\n",
      "\t Step: 4 \t epsilon_t: 0.43131034482758623 \t Params: [-0.0017258512183003485, 0.5713113512699064]\n",
      "\t Step: 5 \t epsilon_t: 0.41413793103448276 \t Params: [0.020018448353395862, 0.5548777122381057]\n",
      "\t Step: 6 \t epsilon_t: 0.3969655172413793 \t Params: [0.03218514826548958, 0.5707503475556506]\n",
      "\t Step: 7 \t epsilon_t: 0.3797931034482759 \t Params: [0.04597212276399049, 0.5562358067735504]\n",
      "\t Step: 8 \t epsilon_t: 0.3626206896551724 \t Params: [0.02936101619496375, 0.5647474522589241]\n",
      "\t Step: 9 \t epsilon_t: 0.34544827586206894 \t Params: [0.024941293306449574, 0.5832679907418065]\n",
      "\t Step: 10 \t epsilon_t: 0.32827586206896553 \t Params: [0.042353291121068344, 0.5699535397373754]\n",
      "\t Step: 11 \t epsilon_t: 0.31110344827586206 \t Params: [0.029328341871581926, 0.5685770857771459]\n",
      "\t Step: 12 \t epsilon_t: 0.2939310344827586 \t Params: [0.022024874458909348, 0.5656859954119312]\n",
      "\t Step: 13 \t epsilon_t: 0.2767586206896552 \t Params: [0.024883179306983586, 0.5719374256728462]\n",
      "\t Step: 14 \t epsilon_t: 0.2595862068965517 \t Params: [0.04025908659802724, 0.566339811472895]\n",
      "\t Step: 15 \t epsilon_t: 0.2424137931034483 \t Params: [0.0298873586151766, 0.5748162893859997]\n",
      "\t Step: 16 \t epsilon_t: 0.22524137931034482 \t Params: [0.02631157524850676, 0.5682510382262427]\n",
      "\t Step: 17 \t epsilon_t: 0.20806896551724136 \t Params: [0.045152453181574286, 0.5615643385643247]\n",
      "\t Step: 18 \t epsilon_t: 0.19089655172413794 \t Params: [0.025649585589795146, 0.5632270331366783]\n",
      "\t Step: 19 \t epsilon_t: 0.17372413793103447 \t Params: [0.03699517717186264, 0.5654855876489421]\n",
      "\t Step: 20 \t epsilon_t: 0.15655172413793106 \t Params: [0.02925083826406224, 0.5713376019693623]\n",
      "\t Step: 21 \t epsilon_t: 0.1393793103448276 \t Params: [0.03494989634858006, 0.5674469667353055]\n",
      "\t Step: 22 \t epsilon_t: 0.12220689655172412 \t Params: [0.02691410197092288, 0.5784310176172638]\n",
      "\t Step: 23 \t epsilon_t: 0.1050344827586207 \t Params: [0.027903390764421353, 0.5665535133700517]\n",
      "\t Step: 24 \t epsilon_t: 0.08786206896551724 \t Params: [0.035515438051688046, 0.5638467376498791]\n",
      "\t Step: 25 \t epsilon_t: 0.07068965517241377 \t Params: [0.037697343607432404, 0.5708386723753989]\n",
      "\t Step: 26 \t epsilon_t: 0.053517241379310354 \t Params: [0.032161417995143264, 0.5726778775913459]\n",
      "\t Step: 27 \t epsilon_t: 0.036344827586206885 \t Params: [0.034423606664510165, 0.5708320911180739]\n",
      "\t Step: 28 \t epsilon_t: 0.019172413793103416 \t Params: [0.03483254070602316, 0.5702638130448876]\n",
      "\t Step: 29 \t epsilon_t: 0.002 \t Params: [0.03394496896714408, 0.5711167670437343]\n",
      "\t tol: 0.002 \t step: 30\n"
     ]
    }
   ],
   "source": [
    "chains=sampler.sample()"
   ]
  },
  {
   "cell_type": "code",
   "execution_count": 12,
   "metadata": {
    "collapsed": false
   },
   "outputs": [
    {
     "data": {
      "text/plain": [
       "(array([ 2.,  6.,  7., 14., 21., 24., 11., 11.,  3.,  1.]),\n",
       " array([0.02618363, 0.02778557, 0.02938751, 0.03098945, 0.03259139,\n",
       "        0.03419333, 0.03579527, 0.03739722, 0.03899916, 0.0406011 ,\n",
       "        0.04220304]),\n",
       " <a list of 10 Patch objects>)"
      ]
     },
     "execution_count": 12,
     "metadata": {},
     "output_type": "execute_result"
    },
    {
     "data": {
      "image/png": "[encoded data removed]",
      "text/plain": [
       "<matplotlib.figure.Figure at 0x7f28902e7c50>"
      ]
     },
     "metadata": {},
     "output_type": "display_data"
    }
   ],
   "source": [
    "import matplotlib.pyplot as plt\n",
    "%matplotlib inline\n",
    "plt.hist(chains[:,0],10)"
   ]
  },
  {
   "cell_type": "code",
   "execution_count": null,
   "metadata": {
    "collapsed": false
   },
   "outputs": [],
   "source": [
    "for p in priors:\n",
    "    \n",
    "    print(p[0])\n",
    "    if p[0] == 'normal':\n",
    "        print 'printed'\n",
    "    print(p[1])"
   ]
  },
  {
   "cell_type": "code",
   "execution_count": null,
   "metadata": {
    "collapsed": false
   },
   "outputs": [],
   "source": [
    "len(priors)"
   ]
  },
  {
   "cell_type": "code",
   "execution_count": null,
   "metadata": {
    "collapsed": true
   },
   "outputs": [],
   "source": []
  }
 ],
 "metadata": {
  "kernelspec": {
   "display_name": "Python 2",
   "language": "python",
   "name": "python2"
  },
  "language_info": {
   "codemirror_mode": {
    "name": "ipython",
    "version": 2
   },
   "file_extension": ".py",
   "mimetype": "text/x-python",
   "name": "python",
   "nbconvert_exporter": "python",
   "pygments_lexer": "ipython2",
   "version": "2.7.6"
  }
 },
 "nbformat": 4,
 "nbformat_minor": 0
}
